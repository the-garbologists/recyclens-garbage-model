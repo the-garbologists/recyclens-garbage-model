{
  "nbformat": 4,
  "nbformat_minor": 0,
  "metadata": {
    "colab": {
      "name": "Recyclens Image Classification Model.ipynb",
      "provenance": []
    },
    "kernelspec": {
      "name": "python3",
      "display_name": "Python 3"
    },
    "language_info": {
      "name": "python"
    }
  },
  "cells": [
    {
      "cell_type": "code",
      "execution_count": null,
      "metadata": {
        "id": "kvYJIDtmmytL"
      },
      "outputs": [],
      "source": [
        "#install relevant packages\n",
        "!pip install -q tflite-model-maker\n",
        "!pip install -q pycocotools\n",
        "!pip install -q tflite-support"
      ]
    },
    {
      "cell_type": "code",
      "source": [
        "#import relevant packages/libraries\n",
        "import numpy as np\n",
        "import os\n",
        "\n",
        "from tflite_model_maker.config import ExportFormat\n",
        "from tflite_model_maker import model_spec\n",
        "from tflite_model_maker import image_classifier\n",
        "from tflite_model_maker.image_classifier import DataLoader\n",
        "\n",
        "import tensorflow as tf\n",
        "assert tf.__version__.startswith('2')"
      ],
      "metadata": {
        "id": "Pv2wH0Knm8FH"
      },
      "execution_count": null,
      "outputs": []
    },
    {
      "cell_type": "code",
      "source": [
        "spec = model_spec.get('efficientnet_lite4')"
      ],
      "metadata": {
        "id": "EiW1nk7J4kly"
      },
      "execution_count": null,
      "outputs": []
    },
    {
      "cell_type": "code",
      "source": [
        "from google.colab import drive\n",
        "drive.mount('/content/drive')"
      ],
      "metadata": {
        "id": "wWI7dUnDm97t"
      },
      "execution_count": null,
      "outputs": []
    },
    {
      "cell_type": "code",
      "source": [
        "#importing data from folder\n",
        "data = DataLoader.from_folder('/content/drive/MyDrive/Uberhackathon2022', shuffle=True)\n",
        "train_data, valid_data = data.split(0.8)\n",
        "valid_data, test_data = valid_data.split(0.5)"
      ],
      "metadata": {
        "id": "30c0RfnxnF51"
      },
      "execution_count": null,
      "outputs": []
    },
    {
      "cell_type": "code",
      "source": [
        "model = image_classifier.create(train_data, \n",
        "                                model_spec=spec, \n",
        "                                batch_size=32, \n",
        "                                train_whole_model=True, \n",
        "                                use_augmentation=True,\n",
        "                                dropout_rate=0.1,\n",
        "                                validation_data=valid_data)"
      ],
      "metadata": {
        "id": "tYLdkzXnnKem"
      },
      "execution_count": null,
      "outputs": []
    },
    {
      "cell_type": "code",
      "source": [
        "model.evaluate(test_data)"
      ],
      "metadata": {
        "id": "w5DkgusznMXN"
      },
      "execution_count": null,
      "outputs": []
    },
    {
      "cell_type": "code",
      "source": [
        "model.export(export_dir='.')"
      ],
      "metadata": {
        "id": "rVf1_UebnRAZ"
      },
      "execution_count": null,
      "outputs": []
    },
    {
      "cell_type": "code",
      "source": [
        "model.evaluate_tflite('model.tflite', test_data) "
      ],
      "metadata": {
        "id": "rL0x5hRhnTJH"
      },
      "execution_count": null,
      "outputs": []
    }
  ]
}