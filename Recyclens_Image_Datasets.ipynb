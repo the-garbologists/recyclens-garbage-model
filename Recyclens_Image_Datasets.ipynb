{
  "nbformat": 4,
  "nbformat_minor": 0,
  "metadata": {
    "colab": {
      "name": "Recyclens Image Datasets",
      "provenance": []
    },
    "kernelspec": {
      "name": "python3",
      "display_name": "Python 3"
    },
    "language_info": {
      "name": "python"
    }
  },
  "cells": [
    {
      "cell_type": "code",
      "source": [
        "#import relevant packages/libraries\n",
        "import numpy as np\n",
        "import os, shutil\n"
      ],
      "metadata": {
        "id": "MK2sZA8giC0i"
      },
      "execution_count": null,
      "outputs": []
    },
    {
      "cell_type": "markdown",
      "source": [
        "# Loading Datasets from Kaggle"
      ],
      "metadata": {
        "id": "ZNeMDJ9-iM_e"
      }
    },
    {
      "cell_type": "code",
      "source": [
        "!pip install kaggle"
      ],
      "metadata": {
        "id": "VI9ksbG0iKEd"
      },
      "execution_count": null,
      "outputs": []
    },
    {
      "cell_type": "code",
      "source": [
        "!mkdir ~/.kaggle"
      ],
      "metadata": {
        "id": "YqLatogViTFx"
      },
      "execution_count": null,
      "outputs": []
    },
    {
      "cell_type": "code",
      "source": [
        "from google.colab import files\n",
        "#upload kaggle.json\n",
        "files.upload()"
      ],
      "metadata": {
        "id": "1LhhJil0iVS_"
      },
      "execution_count": null,
      "outputs": []
    },
    {
      "cell_type": "code",
      "source": [
        "!cp kaggle.json ~/.kaggle/"
      ],
      "metadata": {
        "id": "CSMMUrP1iaGn"
      },
      "execution_count": null,
      "outputs": []
    },
    {
      "cell_type": "code",
      "source": [
        "!chmod 600 ~/.kaggle/kaggle.json"
      ],
      "metadata": {
        "id": "VSu0HzIbicSx"
      },
      "execution_count": null,
      "outputs": []
    },
    {
      "cell_type": "markdown",
      "source": [
        "# Trash Dataset 1"
      ],
      "metadata": {
        "id": "XSbUBzrXkk4c"
      }
    },
    {
      "cell_type": "code",
      "source": [
        "#import 1st dataset from kaggle\n",
        "!kaggle datasets download asdasdasasdas/garbage-classification"
      ],
      "metadata": {
        "id": "YKV3GWWwifsO"
      },
      "execution_count": null,
      "outputs": []
    },
    {
      "cell_type": "code",
      "source": [
        "#renamed garbage-classification.zip to garbage.zip\n",
        "!unzip garbage.zip"
      ],
      "metadata": {
        "id": "zZgLJdy4iiAW"
      },
      "execution_count": null,
      "outputs": []
    },
    {
      "cell_type": "code",
      "source": [
        "!mkdir dataset1"
      ],
      "metadata": {
        "id": "bHYJHxurinTs"
      },
      "execution_count": null,
      "outputs": []
    },
    {
      "cell_type": "code",
      "source": [
        "path1 = ['/content/garbage.zip',\n",
        "         '/content/garbage classification',\n",
        "         '/content/one-indexed-files-notrash_test.txt', \n",
        "         '/content/one-indexed-files-notrash_train.txt',\n",
        "         '/content/one-indexed-files-notrash_val.txt',\n",
        "         '/content/one-indexed-files.txt',\n",
        "         '/content/zero-indexed-files.txt']\n",
        "\n",
        "for path in path1:\n",
        "  shutil.move(path, '/content/dataset1')"
      ],
      "metadata": {
        "id": "NJm7CUW9ioGu"
      },
      "execution_count": null,
      "outputs": []
    },
    {
      "cell_type": "markdown",
      "source": [
        "# Trash Dataset 2"
      ],
      "metadata": {
        "id": "ZPKPbRZhkynh"
      }
    },
    {
      "cell_type": "code",
      "source": [
        "#import 2nd dataset from kaggle\n",
        "!kaggle datasets download mhazhary/trashify-image-dataset"
      ],
      "metadata": {
        "id": "mLtw2eutip6N"
      },
      "execution_count": null,
      "outputs": []
    },
    {
      "cell_type": "code",
      "source": [
        "#renamed trashify-image-dataset.zip to trashify.zip\n",
        "!unzip trashify.zip"
      ],
      "metadata": {
        "id": "WaXWwLqKisDX"
      },
      "execution_count": null,
      "outputs": []
    },
    {
      "cell_type": "code",
      "source": [
        "!mkdir dataset2"
      ],
      "metadata": {
        "id": "PWj3j7gzitlZ"
      },
      "execution_count": null,
      "outputs": []
    },
    {
      "cell_type": "code",
      "source": [
        "path2 = ['/content/trashify.zip',\n",
        "         '/content/trashify-image-dataset'\n",
        "         ]\n",
        "\n",
        "for path in path2:\n",
        "  shutil.move(path, '/content/dataset2')"
      ],
      "metadata": {
        "id": "BHlGFhbDiwqP"
      },
      "execution_count": null,
      "outputs": []
    },
    {
      "cell_type": "markdown",
      "source": [
        "# Trash Dataset 3"
      ],
      "metadata": {
        "id": "s-cFbCktk2R0"
      }
    },
    {
      "cell_type": "code",
      "source": [
        "#import 3rd dataset from kaggle\n",
        "!kaggle datasets download andreasantoro/split-garbage-dataset"
      ],
      "metadata": {
        "id": "6sI64_Cei7Or"
      },
      "execution_count": null,
      "outputs": []
    },
    {
      "cell_type": "code",
      "source": [
        "#renamed split-garbage-dataset.zip to split-dataset.zip\n",
        "!unzip split-garbage.zip"
      ],
      "metadata": {
        "id": "6qR7ia-si9OT"
      },
      "execution_count": null,
      "outputs": []
    },
    {
      "cell_type": "code",
      "source": [
        "!mkdir dataset3"
      ],
      "metadata": {
        "id": "pZlPPBg6i_UG"
      },
      "execution_count": null,
      "outputs": []
    },
    {
      "cell_type": "code",
      "source": [
        "path3 = ['/content/split-garbage.zip',\n",
        "         '/content/split-garbage-dataset']\n",
        "\n",
        "for path in path3:\n",
        "  shutil.move(path, '/content/dataset3')"
      ],
      "metadata": {
        "id": "YXPEEmvwjC5N"
      },
      "execution_count": null,
      "outputs": []
    },
    {
      "cell_type": "markdown",
      "source": [
        "# Trash Dataset 4"
      ],
      "metadata": {
        "id": "vl17vQDDk5Ai"
      }
    },
    {
      "cell_type": "code",
      "source": [
        "#import 4th dataset from kaggle\n",
        "!kaggle datasets download mostafaabla/garbage-classification"
      ],
      "metadata": {
        "id": "lcsbmPerjDuU"
      },
      "execution_count": null,
      "outputs": []
    },
    {
      "cell_type": "code",
      "source": [
        "#renamed garbage-classification.zip to garbage-12.zip\n",
        "!unzip garbage-12.zip"
      ],
      "metadata": {
        "id": "X7b0Zm-6jFui"
      },
      "execution_count": null,
      "outputs": []
    },
    {
      "cell_type": "code",
      "source": [
        "!mkdir dataset4"
      ],
      "metadata": {
        "id": "nDbIf3BcjHPs"
      },
      "execution_count": null,
      "outputs": []
    },
    {
      "cell_type": "code",
      "source": [
        "path4 = ['/content/garbage-12.zip',\n",
        "         '/content/garbage_classification_12'] #rename folder\n",
        "\n",
        "for path in path4:\n",
        "  shutil.move(path, '/content/dataset4')"
      ],
      "metadata": {
        "id": "ai_hBk-VjJm0"
      },
      "execution_count": null,
      "outputs": []
    },
    {
      "cell_type": "markdown",
      "source": [
        "# Book Dataset "
      ],
      "metadata": {
        "id": "28Doxy5Tk732"
      }
    },
    {
      "cell_type": "code",
      "source": [
        "#import book dataset from kaggle\n",
        "!kaggle datasets download farhanhaikhan/general-purpose-image-dataset"
      ],
      "metadata": {
        "id": "13coDxiojLIb"
      },
      "execution_count": null,
      "outputs": []
    },
    {
      "cell_type": "code",
      "source": [
        "#renamed general-purpose-image-dataset.zip to book.zip\n",
        "!unzip book.zip"
      ],
      "metadata": {
        "id": "Nurtk5YxjMqc"
      },
      "execution_count": null,
      "outputs": []
    },
    {
      "cell_type": "code",
      "source": [
        "!mkdir book_dataset"
      ],
      "metadata": {
        "id": "YPSKrBNMjQAc"
      },
      "execution_count": null,
      "outputs": []
    },
    {
      "cell_type": "code",
      "source": [
        "path_book = ['/content/dataset/Books',\n",
        "         '/content/book.zip']\n",
        "\n",
        "for path in path_book:\n",
        "  shutil.move(path, '/content/book_dataset')"
      ],
      "metadata": {
        "id": "dDylvtjZjQm5"
      },
      "execution_count": null,
      "outputs": []
    },
    {
      "cell_type": "markdown",
      "source": [
        "# Phone Dataset"
      ],
      "metadata": {
        "id": "Wi0tASLLk_sh"
      }
    },
    {
      "cell_type": "code",
      "source": [
        "#import phone dataset from kaggle\n",
        "!kaggle datasets download lasaljaywardena/mobile-smartphone-images-dataset"
      ],
      "metadata": {
        "id": "2hnI3R2ljSFm"
      },
      "execution_count": null,
      "outputs": []
    },
    {
      "cell_type": "code",
      "source": [
        "#renamed mobile-smartphone-images-dataset.zip to phone.zip\n",
        "!unzip phone.zip"
      ],
      "metadata": {
        "id": "SjxyKRHTjT7s"
      },
      "execution_count": null,
      "outputs": []
    },
    {
      "cell_type": "code",
      "source": [
        "!mkdir phone_dataset"
      ],
      "metadata": {
        "id": "XevgBuZijVXx"
      },
      "execution_count": null,
      "outputs": []
    },
    {
      "cell_type": "code",
      "source": [
        "path_phone = ['/content/mobile_images',\n",
        "              '/content/phone.zip',\n",
        "              '/content/mobile_data_img.csv']\n",
        "\n",
        "for path in path_phone:\n",
        "  shutil.move(path, '/content/phone_dataset')"
      ],
      "metadata": {
        "id": "nVvsI8vdjYBS"
      },
      "execution_count": null,
      "outputs": []
    },
    {
      "cell_type": "markdown",
      "source": [
        "# General Dataset"
      ],
      "metadata": {
        "id": "4XK1YZnulC4L"
      }
    },
    {
      "cell_type": "code",
      "source": [
        "#import general dataset from kaggle (mainly used for e-waste)\n",
        "!kaggle datasets download jessicali9530/caltech256"
      ],
      "metadata": {
        "id": "xKSktWJ_khfe"
      },
      "execution_count": null,
      "outputs": []
    },
    {
      "cell_type": "code",
      "source": [
        "!unzip caltech256.zip"
      ],
      "metadata": {
        "id": "nJGmyikplM4-"
      },
      "execution_count": null,
      "outputs": []
    },
    {
      "cell_type": "code",
      "source": [
        "!mkdir gen_dataset"
      ],
      "metadata": {
        "id": "ugEt2yevlPrp"
      },
      "execution_count": null,
      "outputs": []
    },
    {
      "cell_type": "code",
      "source": [
        "gen_path = ['/content/caltech256.zip',\n",
        "         '/content/256_objectcategories']\n",
        "\n",
        "for path in gen_path:\n",
        "  shutil.move(path, '/content/gen_dataset')"
      ],
      "metadata": {
        "id": "oOU3BC3HlXl6"
      },
      "execution_count": null,
      "outputs": []
    },
    {
      "cell_type": "markdown",
      "source": [
        "# Food Dataset"
      ],
      "metadata": {
        "id": "ZZYtJBH5lmYK"
      }
    },
    {
      "cell_type": "code",
      "source": [
        "#import food dataset from kaggle\n",
        "!kaggle datasets download rayhanzamzamy/non-and-biodegradable-waste-dataset"
      ],
      "metadata": {
        "id": "taEay3MwlbI-"
      },
      "execution_count": null,
      "outputs": []
    },
    {
      "cell_type": "code",
      "source": [
        "#renamed non-and-biodegradable-waste-dataset.zip to food.zip\n",
        "!unzip food.zip"
      ],
      "metadata": {
        "id": "3Fg7KWIslc88"
      },
      "execution_count": null,
      "outputs": []
    },
    {
      "cell_type": "code",
      "source": [
        "!mkdir food_dataset"
      ],
      "metadata": {
        "id": "R05DxV44lewK"
      },
      "execution_count": null,
      "outputs": []
    },
    {
      "cell_type": "code",
      "source": [
        "food_path = ['/content/food.zip',\n",
        "             '/content/TEST',\n",
        "             '/content/TRAIN.1',\n",
        "             '/content/TRAIN.2',\n",
        "             '/content/TRAIN.3',\n",
        "             '/content/TRAIN.4'\n",
        "             ]\n",
        "\n",
        "for path in food_path:\n",
        "  shutil.move(path, '/content/food_dataset')"
      ],
      "metadata": {
        "id": "e-LyssuMlhCX"
      },
      "execution_count": null,
      "outputs": []
    },
    {
      "cell_type": "markdown",
      "source": [
        "# Sorting Data"
      ],
      "metadata": {
        "id": "0ePVojYyjjSl"
      }
    },
    {
      "cell_type": "code",
      "source": [
        "!mkdir dataset_final"
      ],
      "metadata": {
        "id": "_Yyf4O5njZnj"
      },
      "execution_count": null,
      "outputs": []
    },
    {
      "cell_type": "code",
      "source": [
        "#final garbage categories \n",
        "path_final = ['/aluminium-foil',\n",
        "              '/biological',\n",
        "              '/book',\n",
        "              '/brown-glass',\n",
        "              '/cardboard',\n",
        "              '/clothes',\n",
        "              '/e-waste',\n",
        "              '/green-glass',\n",
        "              '/metal',\n",
        "              '/paper',\n",
        "              '/plastic',\n",
        "              '/shoes',\n",
        "              '/clear-glass',\n",
        "              '/trash']\n",
        "\n",
        "for path in path_final:\n",
        "  os.makedirs('/content/dataset_final' + path)"
      ],
      "metadata": {
        "id": "zYmZYU0njbDD"
      },
      "execution_count": null,
      "outputs": []
    },
    {
      "cell_type": "code",
      "source": [
        "#defining functions to shift the image files to their respective trash categories\n",
        "\n",
        "def list_full_path(dir):\n",
        "    return [os.path.join(dir, path) for path in os.listdir(dir)]\n",
        "\n",
        "def shift_files(path_list): #path_list contains pairs of source and directory paths \n",
        "  for pair in path_list:\n",
        "    for src in list_full_path(pair[0]):\n",
        "      if os.path.isfile(src) == True:\n",
        "        shutil.copy(src, pair[1])\n",
        "        print(src)"
      ],
      "metadata": {
        "id": "ShfGQgzZjsQv"
      },
      "execution_count": null,
      "outputs": []
    },
    {
      "cell_type": "code",
      "source": [
        "from google.colab import drive"
      ],
      "metadata": {
        "id": "JrVCrXNcj6Pc"
      },
      "execution_count": null,
      "outputs": []
    },
    {
      "cell_type": "code",
      "source": [
        "drive.mount('/content/drive')"
      ],
      "metadata": {
        "id": "HzL-5tUTj7oQ"
      },
      "execution_count": null,
      "outputs": []
    },
    {
      "cell_type": "code",
      "source": [
        "#checking total number of images for each category\n",
        "for path in list_full_path('/content/dataset_final'):\n",
        "  head, tail = os.path.split(path)\n",
        "  num = len(os.listdir(path))\n",
        "  print(f'{tail}: {num}')"
      ],
      "metadata": {
        "id": "Wl8cHHjMj8V_"
      },
      "execution_count": null,
      "outputs": []
    },
    {
      "cell_type": "code",
      "source": [
        "#saving final dataset to drive\n",
        "%cp -av \"/content/dataset_final\" \"/content/drive/MyDrive/Uberhackathon2022\""
      ],
      "metadata": {
        "id": "wDu8MxLdkBUj"
      },
      "execution_count": null,
      "outputs": []
    }
  ]
}